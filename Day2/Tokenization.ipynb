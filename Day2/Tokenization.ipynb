{
  "nbformat": 4,
  "nbformat_minor": 0,
  "metadata": {
    "colab": {
      "provenance": []
    },
    "kernelspec": {
      "name": "python3",
      "display_name": "Python 3"
    },
    "language_info": {
      "name": "python"
    }
  },
  "cells": [
    {
      "cell_type": "code",
      "execution_count": 3,
      "metadata": {
        "id": "NgbrfqEku63e"
      },
      "outputs": [],
      "source": [
        "import tensorflow as tf\n",
        "from tensorflow import keras\n",
        "from tensorflow.keras.preprocessing.text import Tokenizer\n",
        "from tensorflow.keras.preprocessing.sequence import pad_sequences"
      ]
    },
    {
      "cell_type": "code",
      "source": [
        "sentences = [\n",
        "    \"ChatGPT is most famous AI application\",\n",
        "    \"TensorFlow is easy to use\",\n",
        "    \"AI War is on between Microsoft and Google\",\n",
        "]"
      ],
      "metadata": {
        "id": "H8JeuGRsvHUw"
      },
      "execution_count": 5,
      "outputs": []
    },
    {
      "cell_type": "code",
      "source": [
        "tokenizer = Tokenizer(num_words=50,oov_token=\"<OOV>\") "
      ],
      "metadata": {
        "id": "dVCBEudXvZ3K"
      },
      "execution_count": 20,
      "outputs": []
    },
    {
      "cell_type": "code",
      "source": [
        "tokenizer.fit_on_texts(sentences)"
      ],
      "metadata": {
        "id": "MN5PMDdsvfLB"
      },
      "execution_count": 21,
      "outputs": []
    },
    {
      "cell_type": "code",
      "source": [
        "wi = tokenizer.word_index\n",
        "wi"
      ],
      "metadata": {
        "colab": {
          "base_uri": "https://localhost:8080/"
        },
        "id": "J36d6KySvniV",
        "outputId": "20776def-dcab-4f71-886e-0530015269f4"
      },
      "execution_count": 22,
      "outputs": [
        {
          "output_type": "execute_result",
          "data": {
            "text/plain": [
              "{'<OOV>': 1,\n",
              " 'is': 2,\n",
              " 'ai': 3,\n",
              " 'chatgpt': 4,\n",
              " 'most': 5,\n",
              " 'famous': 6,\n",
              " 'application': 7,\n",
              " 'tensorflow': 8,\n",
              " 'easy': 9,\n",
              " 'to': 10,\n",
              " 'use': 11,\n",
              " 'war': 12,\n",
              " 'on': 13,\n",
              " 'between': 14,\n",
              " 'microsoft': 15,\n",
              " 'and': 16,\n",
              " 'google': 17}"
            ]
          },
          "metadata": {},
          "execution_count": 22
        }
      ]
    },
    {
      "cell_type": "code",
      "source": [
        "seq = tokenizer.texts_to_sequences(sentences) #used to encode a list of sentences \n",
        "print(seq)"
      ],
      "metadata": {
        "colab": {
          "base_uri": "https://localhost:8080/"
        },
        "id": "IugjHcBcv0AL",
        "outputId": "54e10937-df83-4ee0-9d38-7b86c5e6f8e7"
      },
      "execution_count": 23,
      "outputs": [
        {
          "output_type": "stream",
          "name": "stdout",
          "text": [
            "[[4, 2, 5, 6, 3, 7], [8, 2, 9, 10, 11], [3, 12, 2, 13, 14, 15, 16, 17]]\n"
          ]
        }
      ]
    },
    {
      "cell_type": "code",
      "source": [
        "new = [\"Bard is a new AI application\"]"
      ],
      "metadata": {
        "id": "XdXUPRkAwE_y"
      },
      "execution_count": 24,
      "outputs": []
    },
    {
      "cell_type": "code",
      "source": [
        "tokenizer.texts_to_sequences(new)"
      ],
      "metadata": {
        "colab": {
          "base_uri": "https://localhost:8080/"
        },
        "id": "sj7j5qWzwMIT",
        "outputId": "a0c1bd1f-40b8-4216-b435-06fb669c7146"
      },
      "execution_count": 25,
      "outputs": [
        {
          "output_type": "execute_result",
          "data": {
            "text/plain": [
              "[[1, 2, 1, 1, 3, 7]]"
            ]
          },
          "metadata": {},
          "execution_count": 25
        }
      ]
    },
    {
      "cell_type": "code",
      "source": [
        "padded = pad_sequences(seq,truncating=\"post\", maxlen=5)\n",
        "print(\"\\nPadded Test Sequence: \")\n",
        "print(padded)"
      ],
      "metadata": {
        "colab": {
          "base_uri": "https://localhost:8080/"
        },
        "id": "F-4rVQeLwanN",
        "outputId": "6d04b2fd-1b93-4672-95d2-62392de40f20"
      },
      "execution_count": 26,
      "outputs": [
        {
          "output_type": "stream",
          "name": "stdout",
          "text": [
            "\n",
            "Padded Test Sequence: \n",
            "[[ 4  2  5  6  3]\n",
            " [ 8  2  9 10 11]\n",
            " [ 3 12  2 13 14]]\n"
          ]
        }
      ]
    }
  ]
}