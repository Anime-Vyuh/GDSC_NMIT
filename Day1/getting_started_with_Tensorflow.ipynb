{
 "cells": [
  {
   "cell_type": "markdown",
   "metadata": {
    "id": "iYTd8F6i46pB"
   },
   "source": [
    "## Getting Started With [Tensorflow](https://www.tensorflow.org/guide)\n",
    "\n",
    "`TensorFlow` is an end-to-end platform for machine learning. It supports the following:\n",
    "\n",
    "- Multidimensional-array based numeric computation (similar to NumPy.)\n",
    "- GPU and distributed processing\n",
    "- Automatic differentiation\n",
    "- Model construction, training, and export"
   ]
  },
  {
   "cell_type": "markdown",
   "metadata": {
    "id": "WObGdHVi5N_d"
   },
   "source": [
    "### Install Tensorflow\n",
    "```py\n",
    "pip install tensorflow\n",
    "```"
   ]
  },
  {
   "cell_type": "code",
   "execution_count": 1,
   "metadata": {
    "id": "uaPadRRc5INP"
   },
   "outputs": [],
   "source": [
    "#let us now cover the basics stuff of Tensorflow\n",
    "#Before that let us understand what are Tensors"
   ]
  },
  {
   "cell_type": "code",
   "execution_count": 1,
   "metadata": {
    "id": "msKfUoyU47zS"
   },
   "outputs": [
    {
     "name": "stderr",
     "output_type": "stream",
     "text": [
      "2023-02-10 00:54:06.309234: W tensorflow/stream_executor/platform/default/dso_loader.cc:64] Could not load dynamic library 'libcudart.so.11.0'; dlerror: libcudart.so.11.0: cannot open shared object file: No such file or directory\n",
      "2023-02-10 00:54:06.309255: I tensorflow/stream_executor/cuda/cudart_stub.cc:29] Ignore above cudart dlerror if you do not have a GPU set up on your machine.\n"
     ]
    }
   ],
   "source": [
    "import tensorflow as tf"
   ]
  },
  {
   "cell_type": "markdown",
   "metadata": {
    "id": "OzIHt3bv5YBE"
   },
   "source": [
    "### Tensors"
   ]
  },
  {
   "cell_type": "markdown",
   "metadata": {
    "id": "3cf9_ica5gG_"
   },
   "source": [
    "Just like in Numpy where we delt with multi-dimensional arrays. Tensorflow operates on tensors or multidimensional arrays."
   ]
  },
  {
   "cell_type": "code",
   "execution_count": 5,
   "metadata": {
    "id": "FzP8RBX25XBw"
   },
   "outputs": [],
   "source": [
    "tensor_ = tf.constant([[1,2,3],[4,5,6]])"
   ]
  },
  {
   "cell_type": "code",
   "execution_count": 6,
   "metadata": {
    "colab": {
     "base_uri": "https://localhost:8080/"
    },
    "id": "WQunTMol6LV5",
    "outputId": "4bf26e4f-979a-4752-9f2f-4ff64bbc79d9"
   },
   "outputs": [
    {
     "data": {
      "text/plain": [
       "tensorflow.python.framework.ops.EagerTensor"
      ]
     },
     "execution_count": 6,
     "metadata": {},
     "output_type": "execute_result"
    }
   ],
   "source": [
    "type(tensor_)"
   ]
  },
  {
   "cell_type": "code",
   "execution_count": 8,
   "metadata": {
    "colab": {
     "base_uri": "https://localhost:8080/"
    },
    "id": "Hfme1CMN6OaH",
    "outputId": "4ce6f3f2-b91b-4cba-f2d1-7706ed9fd8f0"
   },
   "outputs": [
    {
     "data": {
      "text/plain": [
       "TensorShape([2, 3])"
      ]
     },
     "execution_count": 8,
     "metadata": {},
     "output_type": "execute_result"
    }
   ],
   "source": [
    "tensor_.shape"
   ]
  },
  {
   "cell_type": "code",
   "execution_count": 9,
   "metadata": {
    "colab": {
     "base_uri": "https://localhost:8080/"
    },
    "id": "JsTd2wyY6TLE",
    "outputId": "27ce34b2-445f-4ace-cf27-6c9d542e5c82"
   },
   "outputs": [
    {
     "data": {
      "text/plain": [
       "<tf.Tensor: shape=(2, 3), dtype=int32, numpy=\n",
       "array([[1, 2, 3],\n",
       "       [4, 5, 6]], dtype=int32)>"
      ]
     },
     "execution_count": 9,
     "metadata": {},
     "output_type": "execute_result"
    }
   ],
   "source": [
    "tensor_"
   ]
  },
  {
   "cell_type": "code",
   "execution_count": 10,
   "metadata": {
    "id": "EaEBFlNQATxw"
   },
   "outputs": [],
   "source": [
    "single_arr = tf.constant([1,2,3],dtype=\"float\")"
   ]
  },
  {
   "cell_type": "code",
   "execution_count": 11,
   "metadata": {
    "colab": {
     "base_uri": "https://localhost:8080/"
    },
    "id": "iFW2pLOiAbUr",
    "outputId": "2eb42bfd-714d-419a-af84-02a75aed3191"
   },
   "outputs": [
    {
     "data": {
      "text/plain": [
       "<tf.Tensor: shape=(3,), dtype=float32, numpy=array([1., 2., 3.], dtype=float32)>"
      ]
     },
     "execution_count": 11,
     "metadata": {},
     "output_type": "execute_result"
    }
   ],
   "source": [
    "single_arr"
   ]
  },
  {
   "cell_type": "markdown",
   "metadata": {
    "id": "ExoyiG6EIiZp"
   },
   "source": [
    "Tensors have shapes. Some vocabulary:\n",
    "\n",
    "- Shape: The length (number of elements) of each of the axes of a tensor.\n",
    "- Rank: Number of tensor axes. A scalar has rank 0, a vector has rank 1, a matrix is rank 2.\n",
    "- Axis or Dimension: A particular dimension of a tensor.\n",
    "- Size: The total number of items in the tensor, the product of the shape vector's elements.\n"
   ]
  },
  {
   "cell_type": "code",
   "execution_count": 13,
   "metadata": {
    "colab": {
     "base_uri": "https://localhost:8080/"
    },
    "id": "jkt5oMf8IoUs",
    "outputId": "ccf7f89c-9384-48fd-e09f-0023f5ad8b1e"
   },
   "outputs": [
    {
     "data": {
      "text/plain": [
       "<tf.Tensor: shape=(3, 2, 5), dtype=int32, numpy=\n",
       "array([[[ 0,  1,  2,  3,  4],\n",
       "        [ 5,  6,  7,  8,  9]],\n",
       "\n",
       "       [[10, 11, 12, 13, 14],\n",
       "        [15, 16, 17, 18, 19]],\n",
       "\n",
       "       [[20, 21, 22, 23, 24],\n",
       "        [25, 26, 27, 28, 29]]], dtype=int32)>"
      ]
     },
     "execution_count": 13,
     "metadata": {},
     "output_type": "execute_result"
    }
   ],
   "source": [
    "tf.constant([\n",
    "  [[0, 1, 2, 3, 4],\n",
    "   [5, 6, 7, 8, 9]],\n",
    "  [[10, 11, 12, 13, 14],\n",
    "   [15, 16, 17, 18, 19]],\n",
    "  [[20, 21, 22, 23, 24],\n",
    "   [25, 26, 27, 28, 29]],])"
   ]
  },
  {
   "cell_type": "markdown",
   "metadata": {
    "id": "Bd-ojIcYJUbc"
   },
   "source": [
    "![3Dtensor](https://www.tensorflow.org/guide/images/tensor/3-axis_numpy.png \"Representation Of 3D Tensor\") \n",
    "![3D](https://www.tensorflow.org/guide/images/tensor/3-axis_front.png \"3D Tensor\")"
   ]
  },
  {
   "cell_type": "markdown",
   "metadata": {
    "id": "rq8EspUKKBnS"
   },
   "source": [
    "### Common Operations"
   ]
  },
  {
   "cell_type": "code",
   "execution_count": 14,
   "metadata": {
    "id": "j-HlEVPXKEAU"
   },
   "outputs": [],
   "source": [
    "arr1 = tf.constant([1,2,3,4,5])\n",
    "arr2 = tf.constant([10,11,12,14,13])"
   ]
  },
  {
   "cell_type": "code",
   "execution_count": 16,
   "metadata": {
    "id": "UnPfyDJbKNld"
   },
   "outputs": [],
   "source": [
    "sum = tf.add(arr1,arr2)"
   ]
  },
  {
   "cell_type": "code",
   "execution_count": 17,
   "metadata": {
    "colab": {
     "base_uri": "https://localhost:8080/"
    },
    "id": "XdNPWSYKKQMe",
    "outputId": "61fd0b16-cd06-4d52-e0bb-272f9d0d7af9"
   },
   "outputs": [
    {
     "data": {
      "text/plain": [
       "array([11, 13, 15, 18, 18], dtype=int32)"
      ]
     },
     "execution_count": 17,
     "metadata": {},
     "output_type": "execute_result"
    }
   ],
   "source": [
    "sum.numpy()"
   ]
  },
  {
   "cell_type": "code",
   "execution_count": 19,
   "metadata": {
    "id": "gLQlp1WKKZBY"
   },
   "outputs": [],
   "source": [
    "diff = tf.subtract(arr1,arr2)"
   ]
  },
  {
   "cell_type": "code",
   "execution_count": 20,
   "metadata": {
    "colab": {
     "base_uri": "https://localhost:8080/"
    },
    "id": "dlTA1TniKdL0",
    "outputId": "d4e45b1c-af30-4cde-c0f4-41c1855d6ca9"
   },
   "outputs": [
    {
     "data": {
      "text/plain": [
       "array([ -9,  -9,  -9, -10,  -8], dtype=int32)"
      ]
     },
     "execution_count": 20,
     "metadata": {},
     "output_type": "execute_result"
    }
   ],
   "source": [
    "diff.numpy()"
   ]
  },
  {
   "cell_type": "code",
   "execution_count": 21,
   "metadata": {
    "id": "3jmRn1aQKni5"
   },
   "outputs": [],
   "source": [
    "mul = tf.multiply(arr1,arr2)"
   ]
  },
  {
   "cell_type": "code",
   "execution_count": 22,
   "metadata": {
    "colab": {
     "base_uri": "https://localhost:8080/"
    },
    "id": "SbOyfCtMKrpJ",
    "outputId": "699cc5f7-ff0a-4747-bd25-f2033c7addad"
   },
   "outputs": [
    {
     "data": {
      "text/plain": [
       "array([10, 22, 36, 56, 65], dtype=int32)"
      ]
     },
     "execution_count": 22,
     "metadata": {},
     "output_type": "execute_result"
    }
   ],
   "source": [
    "mul.numpy()"
   ]
  },
  {
   "cell_type": "markdown",
   "metadata": {
    "id": "IfjfatEDKv5I"
   },
   "source": [
    "### Variable\n",
    "\n",
    "A TensorFlow variable is the recommended way to represent shared, persistent state your program manipulates. This guide covers how to create, update, and manage instances of tf.Variable in TensorFlow."
   ]
  },
  {
   "cell_type": "code",
   "execution_count": 23,
   "metadata": {
    "id": "6LZf5hd1K5hC"
   },
   "outputs": [],
   "source": [
    "arr = tf.Variable([1,2,3,4],dtype=\"float\")"
   ]
  },
  {
   "cell_type": "code",
   "execution_count": 24,
   "metadata": {
    "colab": {
     "base_uri": "https://localhost:8080/"
    },
    "id": "9kcaRPl4Li1z",
    "outputId": "dc3a8bb0-7f08-47ba-8268-1fe15c4ad0ba"
   },
   "outputs": [
    {
     "data": {
      "text/plain": [
       "<tf.Variable 'Variable:0' shape=(4,) dtype=float32, numpy=array([1., 2., 3., 4.], dtype=float32)>"
      ]
     },
     "execution_count": 24,
     "metadata": {},
     "output_type": "execute_result"
    }
   ],
   "source": [
    "arr"
   ]
  },
  {
   "cell_type": "code",
   "execution_count": 25,
   "metadata": {
    "colab": {
     "base_uri": "https://localhost:8080/"
    },
    "id": "GNA9Q2CyLkbH",
    "outputId": "34b7a866-ca58-41db-daf3-1a52caf0b4b1"
   },
   "outputs": [
    {
     "data": {
      "text/plain": [
       "tensorflow.python.ops.resource_variable_ops.ResourceVariable"
      ]
     },
     "execution_count": 25,
     "metadata": {},
     "output_type": "execute_result"
    }
   ],
   "source": [
    "type(arr)"
   ]
  },
  {
   "cell_type": "markdown",
   "metadata": {},
   "source": [
    "## Zeros\n",
    "## Ones\n",
    "## Fill"
   ]
  },
  {
   "cell_type": "markdown",
   "metadata": {
    "id": "qz0-AsUcNYdr"
   },
   "source": [
    "### Matrix Multiplication"
   ]
  },
  {
   "cell_type": "code",
   "execution_count": 28,
   "metadata": {
    "id": "tpYuRfQTNctP"
   },
   "outputs": [],
   "source": [
    "a = tf.Variable([[2,3,4],\n",
    "                [3,2,3],\n",
    "                 [4,2,1]])  #3x3\n",
    "b = tf.Variable([[1,2],\n",
    "                [5,2],\n",
    "                 [7,0]])  #3x2"
   ]
  },
  {
   "cell_type": "code",
   "execution_count": 30,
   "metadata": {
    "id": "HyApy6A-N7_j"
   },
   "outputs": [],
   "source": [
    "mul = tf.matmul(a,b) #(3x3) x (3x2) = (3x2)"
   ]
  },
  {
   "cell_type": "code",
   "execution_count": 31,
   "metadata": {
    "colab": {
     "base_uri": "https://localhost:8080/"
    },
    "id": "MRoej-MvOAXC",
    "outputId": "7f16ed3e-7250-430e-d978-ce0ea76419b2"
   },
   "outputs": [
    {
     "data": {
      "text/plain": [
       "<tf.Tensor: shape=(3, 2), dtype=int32, numpy=\n",
       "array([[45, 10],\n",
       "       [34, 10],\n",
       "       [21, 12]], dtype=int32)>"
      ]
     },
     "execution_count": 31,
     "metadata": {},
     "output_type": "execute_result"
    }
   ],
   "source": [
    "mul"
   ]
  },
  {
   "cell_type": "markdown",
   "metadata": {
    "id": "F9ZyXY55L1ss"
   },
   "source": [
    "### Function In Tensorflow"
   ]
  },
  {
   "cell_type": "code",
   "execution_count": 3,
   "metadata": {
    "id": "EFrw4DVyNDFI"
   },
   "outputs": [],
   "source": [
    "def regression_formula(W,X,b):\n",
    "    y_hat = tf.matmul(tf.transpose(W),X)\n",
    "    y_hat = y_hat+b\n",
    "    return y_hat\n",
    "\n",
    "z = tf.function(regression_formula)\n",
    "\n",
    "X = tf.constant([[1,2,3],[4,5,6],[7,8,9]],dtype=\"float\")\n",
    "W = tf.fill([3,1],0.1)\n",
    "b = tf.Variable(0.0)\n",
    "\n",
    "predict = z(W,X,b)"
   ]
  },
  {
   "cell_type": "code",
   "execution_count": 4,
   "metadata": {
    "colab": {
     "base_uri": "https://localhost:8080/"
    },
    "id": "8-LfYxObRJu0",
    "outputId": "666f76ad-ca9a-4db2-fa74-9da3c26d20f1"
   },
   "outputs": [
    {
     "data": {
      "text/plain": [
       "<tf.Tensor: shape=(1, 3), dtype=float32, numpy=array([[1.2      , 1.5      , 1.8000001]], dtype=float32)>"
      ]
     },
     "execution_count": 4,
     "metadata": {},
     "output_type": "execute_result"
    }
   ],
   "source": [
    "predict"
   ]
  },
  {
   "cell_type": "markdown",
   "metadata": {
    "id": "plOwYlaaSTgy"
   },
   "source": [
    "### Broadcasting\n",
    "\n",
    "Broadcasting is a concept borrowed from the equivalent feature in NumPy. In short, under certain conditions, smaller tensors are \"stretched\" automatically to fit larger tensors when running combined operations on them."
   ]
  },
  {
   "cell_type": "code",
   "execution_count": 49,
   "metadata": {
    "colab": {
     "base_uri": "https://localhost:8080/"
    },
    "id": "Rr5kmfqISVVQ",
    "outputId": "bf5171b2-f40f-468d-979d-d8fe21b0635f"
   },
   "outputs": [
    {
     "data": {
      "text/plain": [
       "<tf.Tensor: shape=(3, 3), dtype=int32, numpy=\n",
       "array([[1, 2, 3],\n",
       "       [1, 2, 3],\n",
       "       [1, 2, 3]], dtype=int32)>"
      ]
     },
     "execution_count": 49,
     "metadata": {},
     "output_type": "execute_result"
    }
   ],
   "source": [
    "tf.broadcast_to(tf.constant([1,2,3]), [3, 3])"
   ]
  }
 ],
 "metadata": {
  "colab": {
   "name": "getting_started_with_Tensorflow.ipynb",
   "provenance": []
  },
  "kernelspec": {
   "display_name": "Python 3 (ipykernel)",
   "language": "python",
   "name": "python3"
  },
  "language_info": {
   "codemirror_mode": {
    "name": "ipython",
    "version": 3
   },
   "file_extension": ".py",
   "mimetype": "text/x-python",
   "name": "python",
   "nbconvert_exporter": "python",
   "pygments_lexer": "ipython3",
   "version": "3.10.6"
  }
 },
 "nbformat": 4,
 "nbformat_minor": 1
}
